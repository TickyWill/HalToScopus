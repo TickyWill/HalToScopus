{
 "cells": [
  {
   "cell_type": "code",
   "execution_count": null,
   "id": "7c0f57b7-642f-42c8-bcbb-c853f391b90e",
   "metadata": {},
   "outputs": [],
   "source": [
    "# Local imports\n",
    "from htsgui.main_page import AppMain\n",
    "\n",
    "def run_hts():\n",
    "    \"\"\"Main function used for starting the HalToScopus application.\n",
    "    \"\"\"\n",
    "    try:\n",
    "        app = AppMain()\n",
    "        app.mainloop()\n",
    "    except Exception as err:\n",
    "        print(err)\n",
    "\n",
    "if __name__ == \"__main__\":\n",
    "    run_hts()\n"
   ]
  },
  {
   "cell_type": "code",
   "execution_count": null,
   "id": "71776270-df6d-4e90-8f0a-f5351da10d30",
   "metadata": {},
   "outputs": [],
   "source": []
  }
 ],
 "metadata": {
  "kernelspec": {
   "display_name": "HalToScopus_ker",
   "language": "python",
   "name": "haltoscopus_ker"
  },
  "language_info": {
   "codemirror_mode": {
    "name": "ipython",
    "version": 3
   },
   "file_extension": ".py",
   "mimetype": "text/x-python",
   "name": "python",
   "nbconvert_exporter": "python",
   "pygments_lexer": "ipython3",
   "version": "3.9.7"
  }
 },
 "nbformat": 4,
 "nbformat_minor": 5
}
